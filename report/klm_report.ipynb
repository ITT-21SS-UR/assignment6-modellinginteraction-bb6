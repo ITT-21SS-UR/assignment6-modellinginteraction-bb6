{
 "cells": [
  {
   "cell_type": "markdown",
   "metadata": {},
   "source": [
    "# Predict and verify task completion times"
   ]
  },
  {
   "cell_type": "code",
   "execution_count": 1,
   "metadata": {},
   "outputs": [],
   "source": [
    "import pandas as pd\n",
    "import sys"
   ]
  },
  {
   "cell_type": "code",
   "execution_count": 2,
   "metadata": {},
   "outputs": [],
   "source": [
    "# copied methods from klm.py script\n",
    "\n",
    "def file_to_klm_string(filename):\n",
    "    klm_string = \"\"\n",
    "    try:\n",
    "        file = open(filename)\n",
    "    except IOError:\n",
    "        return []\n",
    "    lines = file.readlines()\n",
    "    for line in lines:\n",
    "        new_line = line.split(\"#\", 1)[0].replace(\" \",\"\").rstrip().lower()\n",
    "        klm_string += new_line\n",
    "    return klm_string\n",
    "\n",
    "\n",
    "# calculates task time\n",
    "def calculate_klm_time(klm_model, klm_string):\n",
    "    numbers = \"\"\n",
    "    result = 0\n",
    "    for char in klm_string:\n",
    "        # save digits as prefixes for following operator\n",
    "        if char.isdigit():\n",
    "            numbers += char\n",
    "        else:\n",
    "            try:\n",
    "                operator_number = klm_model[char]\n",
    "            except KeyError:\n",
    "                print(char, ' character does not match any klm operator. Check your klm file.')\n",
    "                return\n",
    "            # multiply by prefixed number if it exists\n",
    "            if len(numbers) > 0:\n",
    "                operator_number *= float(numbers)\n",
    "                numbers = \"\"\n",
    "            result += operator_number\n",
    "    return result"
   ]
  },
  {
   "cell_type": "code",
   "execution_count": 3,
   "metadata": {},
   "outputs": [],
   "source": [
    "klm_lit = {\n",
    "            \"k\": 0.28,\n",
    "            \"p\": 1.1,\n",
    "            \"h\": 0.4,\n",
    "            \"b\": 0.1,\n",
    "            \"m\": 1.35,\n",
    "            }\n",
    "klm_own = {\n",
    "            \"k\": 0.309,\n",
    "            \"b\": 0.09,\n",
    "            \"h\": 0.498,\n",
    "            \"p\": 0.421,\n",
    "            }"
   ]
  },
  {
   "cell_type": "code",
   "execution_count": 4,
   "metadata": {},
   "outputs": [],
   "source": [
    "predictions_dict_own = {}\n",
    "predictions_dict_own[\"test1\"] = calculate_klm_time(klm_own, file_to_klm_string(\"klm1.txt\"))\n",
    "predictions_dict_own[\"test2\"] = calculate_klm_time(klm_own, file_to_klm_string(\"klm2.txt\"))\n",
    "predictions_dict_own[\"test3\"] = calculate_klm_time(klm_own, file_to_klm_string(\"klm3.txt\"))\n",
    "predictions_dict_own[\"test4\"] = calculate_klm_time(klm_own, file_to_klm_string(\"klm4.txt\"))"
   ]
  },
  {
   "cell_type": "code",
   "execution_count": 5,
   "metadata": {},
   "outputs": [
    {
     "data": {
      "text/plain": [
       "{'test1': 30.650999999999964,\n",
       " 'test2': 15.759,\n",
       " 'test3': 9.014999999999997,\n",
       " 'test4': 4.326}"
      ]
     },
     "execution_count": 5,
     "metadata": {},
     "output_type": "execute_result"
    }
   ],
   "source": [
    "predictions_dict_own"
   ]
  },
  {
   "cell_type": "code",
   "execution_count": 6,
   "metadata": {},
   "outputs": [],
   "source": [
    "predictions_dict_lit = {}\n",
    "predictions_dict_lit[\"test1\"] = calculate_klm_time(klm_lit, file_to_klm_string(\"klm1.txt\"))\n",
    "predictions_dict_lit[\"test2\"] = calculate_klm_time(klm_lit, file_to_klm_string(\"klm2.txt\"))\n",
    "predictions_dict_lit[\"test3\"] = calculate_klm_time(klm_lit, file_to_klm_string(\"klm3.txt\"))\n",
    "predictions_dict_lit[\"test4\"] = calculate_klm_time(klm_lit, file_to_klm_string(\"klm4.txt\"))"
   ]
  },
  {
   "cell_type": "code",
   "execution_count": 7,
   "metadata": {},
   "outputs": [
    {
     "data": {
      "text/plain": [
       "{'test1': 66.30000000000011,\n",
       " 'test2': 14.280000000000001,\n",
       " 'test3': 19.500000000000004,\n",
       " 'test4': 3.9200000000000004}"
      ]
     },
     "execution_count": 7,
     "metadata": {},
     "output_type": "execute_result"
    }
   ],
   "source": [
    "predictions_dict_lit"
   ]
  },
  {
   "cell_type": "code",
   "execution_count": 8,
   "metadata": {},
   "outputs": [
    {
     "data": {
      "text/plain": [
       "3.708"
      ]
     },
     "execution_count": 8,
     "metadata": {},
     "output_type": "execute_result"
    }
   ],
   "source": [
    "12*0.309"
   ]
  },
  {
   "cell_type": "code",
   "execution_count": 9,
   "metadata": {},
   "outputs": [
    {
     "data": {
      "text/plain": [
       "12"
      ]
     },
     "execution_count": 9,
     "metadata": {},
     "output_type": "execute_result"
    }
   ],
   "source": [
    "12"
   ]
  },
  {
   "cell_type": "markdown",
   "metadata": {},
   "source": [
    "## Test results"
   ]
  },
  {
   "cell_type": "code",
   "execution_count": 22,
   "metadata": {},
   "outputs": [
    {
     "data": {
      "text/plain": [
       "29.212081015110016"
      ]
     },
     "execution_count": 22,
     "metadata": {},
     "output_type": "execute_result"
    }
   ],
   "source": [
    "time_mouse_1 = []\n",
    "time_key_1 = []\n",
    "time_mouse_2 = []\n",
    "time_key_2 = []\n",
    "\n",
    "for i in range (1, 5):  \n",
    "    mouse_1 = pd.read_csv(\"test_data/test1_{num}.csv\".format(num = i), names=[\"input\",\"time\"])\n",
    "    key_1 = pd.read_csv(\"test_data/test2_{num}.csv\".format(num = i), names=[\"input\",\"time\"])\n",
    "    mouse_2 = pd.read_csv(\"test_data/test3_{num}.csv\".format(num = i), names=[\"input\",\"time\"])\n",
    "    key_2 = pd.read_csv(\"test_data/test4_{num}.csv\".format(num = i), names=[\"input\",\"time\"])\n",
    "    \n",
    "    time_diff_mouse_1 = (list(mouse_1[\"time\"])[-1]-list(mouse_1[\"time\"])[0])\n",
    "    time_diff_key_1 = (list(key_1[\"time\"])[-1]-list(key_1[\"time\"])[0])\n",
    "    time_diff_mouse_2 = (list(mouse_2[\"time\"])[-1]-list(mouse_2[\"time\"])[0])\n",
    "    time_diff_key_2 = (list(key_2[\"time\"])[-1]-list(key_2[\"time\"])[0])\n",
    "    \n",
    "    time_mouse_1.append(time_diff_mouse_1)\n",
    "    time_key_1.append(time_diff_key_1)\n",
    "    time_mouse_2.append(time_mouse_2)\n",
    "    time_key_2.append(time_diff_key_2)\n",
    "\n",
    "time_mouse_1_result = sum(time_mouse_1)/len(time_mouse_1)\n",
    "time_key_1_result = sum(time_key_1)/len(time_key_1)\n",
    "time_mouse_2_result = sum(time_mouse_2)/len(time_key_1)\n"
   ]
  },
  {
   "cell_type": "code",
   "execution_count": 23,
   "metadata": {},
   "outputs": [
    {
     "data": {
      "text/plain": [
       "[36.7391300201416, 33.05440592765808, 23.399319410324097, 23.655468702316284]"
      ]
     },
     "execution_count": 23,
     "metadata": {},
     "output_type": "execute_result"
    }
   ],
   "source": []
  },
  {
   "cell_type": "code",
   "execution_count": null,
   "metadata": {},
   "outputs": [],
   "source": []
  }
 ],
 "metadata": {
  "kernelspec": {
   "display_name": "Python 3",
   "language": "python",
   "name": "python3"
  },
  "language_info": {
   "codemirror_mode": {
    "name": "ipython",
    "version": 3
   },
   "file_extension": ".py",
   "mimetype": "text/x-python",
   "name": "python",
   "nbconvert_exporter": "python",
   "pygments_lexer": "ipython3",
   "version": "3.9.5"
  }
 },
 "nbformat": 4,
 "nbformat_minor": 4
}
