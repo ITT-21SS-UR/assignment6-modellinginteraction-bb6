{
 "cells": [
  {
   "cell_type": "markdown",
   "metadata": {},
   "source": [
    "# Predict and verify task completion times"
   ]
  },
  {
   "cell_type": "code",
   "execution_count": 78,
   "metadata": {},
   "outputs": [],
   "source": [
    "import pandas as pd\n",
    "import sys\n",
    "import matplotlib.pyplot as plt    "
   ]
  },
  {
   "cell_type": "code",
   "execution_count": 2,
   "metadata": {},
   "outputs": [],
   "source": [
    "# copied methods from klm.py script\n",
    "\n",
    "def file_to_klm_string(filename):\n",
    "    klm_string = \"\"\n",
    "    try:\n",
    "        file = open(filename)\n",
    "    except IOError:\n",
    "        return []\n",
    "    lines = file.readlines()\n",
    "    for line in lines:\n",
    "        new_line = line.split(\"#\", 1)[0].replace(\" \",\"\").rstrip().lower()\n",
    "        klm_string += new_line\n",
    "    return klm_string\n",
    "\n",
    "\n",
    "# calculates task time\n",
    "def calculate_klm_time(klm_model, klm_string):\n",
    "    numbers = \"\"\n",
    "    result = 0\n",
    "    for char in klm_string:\n",
    "        # save digits as prefixes for following operator\n",
    "        if char.isdigit():\n",
    "            numbers += char\n",
    "        else:\n",
    "            try:\n",
    "                operator_number = klm_model[char]\n",
    "            except KeyError:\n",
    "                print(char, ' character does not match any klm operator. Check your klm file.')\n",
    "                return\n",
    "            # multiply by prefixed number if it exists\n",
    "            if len(numbers) > 0:\n",
    "                operator_number *= float(numbers)\n",
    "                numbers = \"\"\n",
    "            result += operator_number\n",
    "    return result"
   ]
  },
  {
   "cell_type": "code",
   "execution_count": 3,
   "metadata": {},
   "outputs": [],
   "source": [
    "klm_lit = {\n",
    "            \"k\": 0.28,\n",
    "            \"p\": 1.1,\n",
    "            \"h\": 0.4,\n",
    "            \"b\": 0.1,\n",
    "            \"m\": 1.35,\n",
    "            }\n",
    "klm_own = {\n",
    "            \"k\": 0.309,\n",
    "            \"b\": 0.09,\n",
    "            \"h\": 0.498,\n",
    "            \"p\": 0.421,\n",
    "            }"
   ]
  },
  {
   "cell_type": "code",
   "execution_count": 99,
   "metadata": {},
   "outputs": [],
   "source": [
    "predictions_dict_own = {}\n",
    "predictions_dict_own[\"test1\"] = round(calculate_klm_time(klm_own, file_to_klm_string(\"klm1.txt\")),3)\n",
    "predictions_dict_own[\"test2\"] = round(calculate_klm_time(klm_own, file_to_klm_string(\"klm2.txt\")),3)\n",
    "predictions_dict_own[\"test3\"] = round(calculate_klm_time(klm_own, file_to_klm_string(\"klm3.txt\")),3)\n",
    "predictions_dict_own[\"test4\"] = round(calculate_klm_time(klm_own, file_to_klm_string(\"klm4.txt\")),3)"
   ]
  },
  {
   "cell_type": "code",
   "execution_count": 100,
   "metadata": {},
   "outputs": [
    {
     "data": {
      "text/plain": [
       "{'test1': 30.651, 'test2': 15.759, 'test3': 8.414, 'test4': 4.326}"
      ]
     },
     "execution_count": 100,
     "metadata": {},
     "output_type": "execute_result"
    }
   ],
   "source": [
    "predictions_dict_own"
   ]
  },
  {
   "cell_type": "code",
   "execution_count": 101,
   "metadata": {},
   "outputs": [],
   "source": [
    "predictions_dict_lit = {}\n",
    "predictions_dict_lit[\"test1\"] = round(calculate_klm_time(klm_lit, file_to_klm_string(\"klm1.txt\")),3)\n",
    "predictions_dict_lit[\"test2\"] = round(calculate_klm_time(klm_lit, file_to_klm_string(\"klm2.txt\")),3)\n",
    "predictions_dict_lit[\"test3\"] = round(calculate_klm_time(klm_lit, file_to_klm_string(\"klm3.txt\")),3)\n",
    "predictions_dict_lit[\"test4\"] = round(calculate_klm_time(klm_lit, file_to_klm_string(\"klm4.txt\")),3)"
   ]
  },
  {
   "cell_type": "code",
   "execution_count": 102,
   "metadata": {},
   "outputs": [
    {
     "data": {
      "text/plain": [
       "{'test1': 66.3, 'test2': 14.28, 'test3': 18.2, 'test4': 3.92}"
      ]
     },
     "execution_count": 102,
     "metadata": {},
     "output_type": "execute_result"
    }
   ],
   "source": [
    "predictions_dict_lit"
   ]
  },
  {
   "cell_type": "markdown",
   "metadata": {},
   "source": [
    "## Test results"
   ]
  },
  {
   "cell_type": "code",
   "execution_count": 103,
   "metadata": {},
   "outputs": [
    {
     "data": {
      "text/plain": [
       "6.709"
      ]
     },
     "execution_count": 103,
     "metadata": {},
     "output_type": "execute_result"
    }
   ],
   "source": [
    "time_mouse_1 = []\n",
    "time_key_1 = []\n",
    "time_mouse_2 = []\n",
    "time_key_2 = []\n",
    "\n",
    "for i in range (1, 5):  \n",
    "    mouse_1 = pd.read_csv(\"test_data/test1_{num}.csv\".format(num = i), names=[\"input\",\"time\"])\n",
    "    key_1 = pd.read_csv(\"test_data/test2_{num}.csv\".format(num = i), names=[\"input\",\"time\"])\n",
    "    mouse_2 = pd.read_csv(\"test_data/test3_{num}.csv\".format(num = i), names=[\"input\",\"time\"])\n",
    "    key_2 = pd.read_csv(\"test_data/test4_{num}.csv\".format(num = i), names=[\"input\",\"time\"])\n",
    "    \n",
    "    time_diff_mouse_1 = (list(mouse_1[\"time\"])[-1]-list(mouse_1[\"time\"])[0])\n",
    "    time_diff_key_1 = (list(key_1[\"time\"])[-1]-list(key_1[\"time\"])[0])\n",
    "    time_diff_mouse_2 = (list(mouse_2[\"time\"])[-1]-list(mouse_2[\"time\"])[0])\n",
    "    time_diff_key_2 = (list(key_2[\"time\"])[-1]-list(key_2[\"time\"])[0])\n",
    "    \n",
    "    time_mouse_1.append(time_diff_mouse_1)\n",
    "    time_key_1.append(time_diff_key_1)\n",
    "    time_mouse_2.append(time_diff_mouse_2)\n",
    "    time_key_2.append(time_diff_key_2)\n",
    "\n",
    "time_mouse_1_result = round(sum(time_mouse_1)/len(time_mouse_1),3)\n",
    "time_key_1_result = round(sum(time_key_1)/len(time_key_1),3)\n",
    "time_mouse_2_result = round(sum(time_mouse_2)/len(time_mouse_2),3)\n",
    "time_key_2_result = round(sum(time_key_2)/len(time_key_2),3)\n",
    "\n",
    "time_key_2_result"
   ]
  },
  {
   "cell_type": "code",
   "execution_count": 109,
   "metadata": {},
   "outputs": [
    {
     "name": "stdout",
     "output_type": "stream",
     "text": [
      "  Task  Tested  Estimated (Card et. al)  Estimated (own)\n",
      "0    1  29.212                    66.30           30.651\n",
      "1    2  14.536                    14.28           15.759\n",
      "2    3   9.569                    18.20            8.414\n",
      "3    4   6.709                     3.92            4.326\n"
     ]
    }
   ],
   "source": [
    "results = [[\"1\", time_mouse_1_result, predictions_dict_lit[\"test1\"],predictions_dict_own[\"test1\"]],\n",
    "            [\"2\", time_key_1_result, predictions_dict_lit[\"test2\"],predictions_dict_own[\"test2\"]],\n",
    "             [\"3\", time_mouse_2_result, predictions_dict_lit[\"test3\"],predictions_dict_own[\"test3\"]],\n",
    "              [\"4\", time_key_2_result, predictions_dict_lit[\"test4\"], predictions_dict_own[\"test4\"]]]\n",
    "\n",
    "df = pd.DataFrame(results, columns = ['Task','Tested','Estimated (Card et. al)','Estimated (own)'])\n",
    "print(df)"
   ]
  },
  {
   "cell_type": "markdown",
   "metadata": {},
   "source": [
    "### Boxplot Task 1"
   ]
  },
  {
   "cell_type": "code",
   "execution_count": 73,
   "metadata": {},
   "outputs": [
    {
     "data": {
      "text/plain": [
       "Text(0.5, 1.0, 'Task 1: predicted and tested task completion time')"
      ]
     },
     "execution_count": 73,
     "metadata": {},
     "output_type": "execute_result"
    },
    {
     "data": {
      "image/png": "[encoded data removed]",
      "text/plain": [
       "<Figure size 432x288 with 1 Axes>"
      ]
     },
     "metadata": {
      "needs_background": "light"
     },
     "output_type": "display_data"
    }
   ],
   "source": [
    "pred_time = [predictions_dict_lit[\"test1\"]]\n",
    "pred_time_own = [predictions_dict_own[\"test1\"]]\n",
    "\n",
    "\n",
    "df = pd.DataFrame(time_mouse_1, columns=['Test result'])\n",
    "df2 = pd.DataFrame(pred_time, columns=[\"Predicted value \\n (Card et. al)\"])\n",
    "df3 = pd.DataFrame(pred_time_own, columns=[\"Predicted own value\"])\n",
    "\n",
    "\n",
    "cdf = pd.concat([df, df2, df3])    \n",
    "\n",
    "\n",
    "boxplot_1 = cdf.boxplot()\n",
    "boxplot_1.set(xlabel=\"type\", ylabel=\"task completion time\")\n",
    "plt.title(\"Task 1: predicted and tested task completion time\")"
   ]
  },
  {
   "cell_type": "markdown",
   "metadata": {},
   "source": [
    "### Boxplot Task 2"
   ]
  },
  {
   "cell_type": "code",
   "execution_count": 74,
   "metadata": {},
   "outputs": [
    {
     "data": {
      "text/plain": [
       "Text(0.5, 1.0, 'Task 2: predicted and tested task completion time')"
      ]
     },
     "execution_count": 74,
     "metadata": {},
     "output_type": "execute_result"
    },
    {
     "data": {
      "image/png": "[encoded data removed]",
      "text/plain": [
       "<Figure size 432x288 with 1 Axes>"
      ]
     },
     "metadata": {
      "needs_background": "light"
     },
     "output_type": "display_data"
    }
   ],
   "source": [
    "pred_time_2 = [predictions_dict_lit[\"test2\"]]\n",
    "pred_time_own_2 = [predictions_dict_own[\"test2\"]]\n",
    "\n",
    "\n",
    "df = pd.DataFrame(time_key_1, columns=['Test result'])\n",
    "df2 = pd.DataFrame(pred_time_2, columns=[\"Predicted value \\n (Card et. al)\"])\n",
    "df3 = pd.DataFrame(pred_time_own_2, columns=[\"Predicted own value\"])\n",
    "\n",
    "\n",
    "cdf = pd.concat([df, df2, df3])    \n",
    "\n",
    "\n",
    "boxplot_1 = cdf.boxplot()\n",
    "boxplot_1.set(xlabel=\"type\", ylabel=\"task completion time\")\n",
    "plt.title(\"Task 2: predicted and tested task completion time\")"
   ]
  },
  {
   "cell_type": "markdown",
   "metadata": {},
   "source": [
    "### Boxplot Task 3"
   ]
  },
  {
   "cell_type": "code",
   "execution_count": 75,
   "metadata": {},
   "outputs": [
    {
     "data": {
      "text/plain": [
       "Text(0.5, 1.0, 'Task 3: predicted and tested task completion time')"
      ]
     },
     "execution_count": 75,
     "metadata": {},
     "output_type": "execute_result"
    },
    {
     "data": {
      "image/png": "[encoded data removed]",
      "text/plain": [
       "<Figure size 432x288 with 1 Axes>"
      ]
     },
     "metadata": {
      "needs_background": "light"
     },
     "output_type": "display_data"
    }
   ],
   "source": [
    "pred_time_3 = [predictions_dict_lit[\"test3\"]]\n",
    "pred_time_own_3 = [predictions_dict_own[\"test3\"]]\n",
    "\n",
    "\n",
    "df = pd.DataFrame(time_mouse_2, columns=['Test result'])\n",
    "df2 = pd.DataFrame(pred_time_3, columns=[\"Predicted value \\n (Card et. al)\"])\n",
    "df3 = pd.DataFrame(pred_time_own_3, columns=[\"Predicted own value\"])\n",
    "\n",
    "\n",
    "cdf = pd.concat([df, df2, df3])    \n",
    "\n",
    "\n",
    "boxplot_1 = cdf.boxplot()\n",
    "boxplot_1.set(xlabel=\"type\", ylabel=\"task completion time\")\n",
    "plt.title(\"Task 3: predicted and tested task completion time\")"
   ]
  },
  {
   "cell_type": "markdown",
   "metadata": {},
   "source": [
    "### Boxplot Task 4"
   ]
  },
  {
   "cell_type": "code",
   "execution_count": 76,
   "metadata": {},
   "outputs": [
    {
     "data": {
      "text/plain": [
       "Text(0.5, 1.0, 'Task 4: predicted and tested task completion time')"
      ]
     },
     "execution_count": 76,
     "metadata": {},
     "output_type": "execute_result"
    },
    {
     "data": {
      "image/png": "[encoded data removed]",
      "text/plain": [
       "<Figure size 432x288 with 1 Axes>"
      ]
     },
     "metadata": {
      "needs_background": "light"
     },
     "output_type": "display_data"
    }
   ],
   "source": [
    "pred_time_4 = [predictions_dict_lit[\"test4\"]]\n",
    "pred_time_own_4 = [predictions_dict_own[\"test4\"]]\n",
    "\n",
    "\n",
    "df = pd.DataFrame(time_mouse_2, columns=['Test result'])\n",
    "df2 = pd.DataFrame(pred_time_4, columns=[\"Predicted value \\n (Card et. al)\"])\n",
    "df3 = pd.DataFrame(pred_time_own_4, columns=[\"Predicted own value\"])\n",
    "\n",
    "\n",
    "cdf = pd.concat([df, df2, df3])    \n",
    "\n",
    "\n",
    "boxplot_1 = cdf.boxplot()\n",
    "boxplot_1.set(xlabel=\"type\", ylabel=\"task completion time\")\n",
    "plt.title(\"Task 4: predicted and tested task completion time\")"
   ]
  },
  {
   "cell_type": "code",
   "execution_count": null,
   "metadata": {},
   "outputs": [],
   "source": []
  }
 ],
 "metadata": {
  "kernelspec": {
   "display_name": "Python 3",
   "language": "python",
   "name": "python3"
  },
  "language_info": {
   "codemirror_mode": {
    "name": "ipython",
    "version": 3
   },
   "file_extension": ".py",
   "mimetype": "text/x-python",
   "name": "python",
   "nbconvert_exporter": "python",
   "pygments_lexer": "ipython3",
   "version": "3.9.5"
  }
 },
 "nbformat": 4,
 "nbformat_minor": 4
}
