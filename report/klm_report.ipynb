{
 "cells": [
  {
   "cell_type": "markdown",
   "metadata": {},
   "source": [
    "# Predict and verify task completion times"
   ]
  },
  {
   "cell_type": "markdown",
   "metadata": {},
   "source": [
    "## Experiment Design"
   ]
  },
  {
   "cell_type": "markdown",
   "metadata": {},
   "source": [
    "For this experiment our aim was to determine our own custom klm values for experienced users of a calculator app and then test, how well these hold up when predicting tasks for the aformentioned calculator. To evaluate our predictions, we compare their performance to predictions using the standard values introduced by Card et al.\n",
    "Our main research goal is to determine if calculating your own KLM values befoe predicting task times is worth it."
   ]
  },
  {
   "cell_type": "markdown",
   "metadata": {},
   "source": [
    "### KLM Values"
   ]
  },
  {
   "cell_type": "markdown",
   "metadata": {},
   "source": [
    "Before starting our experiment, we calculated all standard klm values, excluding the m value, by running different test for each.\n",
    "The calculation process and an explanation for each test, can be viewed at the calculator_klm notebook.\n",
    "We came to the follwing values:\n",
    "- k = 0.309\n",
    "- b = 0.09\n",
    "- h = 0.498\n",
    "- p = 0.421\n",
    "\n",
    "In comparison, the values presented by card et. al are:\n",
    "- k = 0.28\n",
    "- b = 0.1\n",
    "- h = 0.4\n",
    "- p = 1.1\n",
    "\n",
    "As can be seen, most of the values are ver similar. Only the p (pointing) value was much smaller for our own operators, which makes sense, because the size of the calculator app is much smaller than an entire screen."
   ]
  },
  {
   "cell_type": "markdown",
   "metadata": {},
   "source": [
    "### Test Setup"
   ]
  },
  {
   "cell_type": "markdown",
   "metadata": {},
   "source": [
    "For our experiments, we predicted and then tested the task times for 4 different calculator oparations. These were:\n",
    "- adding the numbers from 1 to 20 using only the mouse\n",
    "- adding the numbers from 1 to 20 using only the keyboard\n",
    "- calculating the result of $(3^2 + 4^2) * 15.2$ using only the mouse.\n",
    "- calculating the result of $(3^2 + 4^2) * 15.2$ using only the keyboard\n",
    "\n",
    "For the later two the actual opearations were \"$ 3*3 + 4*4 = * 15.2 =$\" as our calculator app could not square numbers and didn't have parentheses as inputs.\n",
    "For each of those tasks we first created a list of klm operators, mapping the needed inputs (these lists can be viewed at klm1.txt, klm2.txt ..), and then used these to predict the task times with our own values and the values of Card et al. As we did not want to measure any mental operations, we excluded these from our operator lists.\n",
    "For the experiment itself we had our participants do each of the tasks as fast as they can. To mitigate the effect of mental operations as much as possible, the participants were allowed to do each task multiple times until they were able to perform them without having to think much on their inputs. As errors would influence the test results, the participants also had to do each task until they were able to do it without any errors. \n",
    "Standard confounding variables like fatigue or learning should not really affect task times, as participants could repeat each task multiple times until they felt comfortable doing the inputs. Therefore, we did not utilize any form of counter balancing for these effects."
   ]
  },
  {
   "cell_type": "markdown",
   "metadata": {},
   "source": [
    "### Variables"
   ]
  },
  {
   "cell_type": "markdown",
   "metadata": {},
   "source": [
    "Independent variables: tasks\n",
    "\n",
    "Dependent variables: task completion time\n",
    "\n",
    "Controlled variables: input device (laptop keyboard, mouse), screen resolution, screen size environment, klm operators list\n",
    "\n",
    "Possible confounding variables: mental effect, errors\n",
    "\n"
   ]
  },
  {
   "cell_type": "markdown",
   "metadata": {},
   "source": [
    "### Participants"
   ]
  },
  {
   "cell_type": "markdown",
   "metadata": {},
   "source": [
    "For our experiment we had two participants who were the same people hat designed this test and the calculator app. Normally this would seem highly questionable but we feel that it is acceptable for our case, as we wanted to test task times for experienced users without measuring any mental operations. Having participants who are very familiar with the app and the test setup seems helpful for mitigating the effects of mental operations.\n",
    "Both participants are male and between 20 and 30 years old. As we wanted some more test data, each participant did each task twice, resulting in 4 task times for each task."
   ]
  },
  {
   "cell_type": "code",
   "execution_count": 2,
   "metadata": {},
   "outputs": [],
   "source": [
    "import pandas as pd\n",
    "import sys\n",
    "import matplotlib.pyplot as plt "
   ]
  },
  {
   "cell_type": "code",
   "execution_count": 3,
   "metadata": {},
   "outputs": [],
   "source": [
    "# copied methods from klm.py script\n",
    "\n",
    "def file_to_klm_string(filename):\n",
    "    klm_string = \"\"\n",
    "    try:\n",
    "        file = open(filename)\n",
    "    except IOError:\n",
    "        return []\n",
    "    lines = file.readlines()\n",
    "    for line in lines:\n",
    "        new_line = line.split(\"#\", 1)[0].replace(\" \",\"\").rstrip().lower()\n",
    "        klm_string += new_line\n",
    "    return klm_string\n",
    "\n",
    "\n",
    "# calculates task time\n",
    "def calculate_klm_time(klm_model, klm_string):\n",
    "    numbers = \"\"\n",
    "    result = 0\n",
    "    for char in klm_string:\n",
    "        # save digits as prefixes for following operator\n",
    "        if char.isdigit():\n",
    "            numbers += char\n",
    "        else:\n",
    "            try:\n",
    "                operator_number = klm_model[char]\n",
    "            except KeyError:\n",
    "                print(char, ' character does not match any klm operator. Check your klm file.')\n",
    "                return\n",
    "            # multiply by prefixed number if it exists\n",
    "            if len(numbers) > 0:\n",
    "                operator_number *= float(numbers)\n",
    "                numbers = \"\"\n",
    "            result += operator_number\n",
    "    return result"
   ]
  },
  {
   "cell_type": "code",
   "execution_count": 4,
   "metadata": {},
   "outputs": [],
   "source": [
    "klm_lit = {\n",
    "            \"k\": 0.28,\n",
    "            \"p\": 1.1,\n",
    "            \"h\": 0.4,\n",
    "            \"b\": 0.1,\n",
    "            \"m\": 1.35,\n",
    "            }\n",
    "klm_own = {\n",
    "            \"k\": 0.309,\n",
    "            \"b\": 0.09,\n",
    "            \"h\": 0.498,\n",
    "            \"p\": 0.421,\n",
    "            }"
   ]
  },
  {
   "cell_type": "code",
   "execution_count": 5,
   "metadata": {},
   "outputs": [],
   "source": [
    "predictions_dict_own = {}\n",
    "predictions_dict_own[\"test1\"] = round(calculate_klm_time(klm_own, file_to_klm_string(\"klm1.txt\")), 3)\n",
    "predictions_dict_own[\"test2\"] = round(calculate_klm_time(klm_own, file_to_klm_string(\"klm2.txt\")), 3)\n",
    "predictions_dict_own[\"test3\"] = round(calculate_klm_time(klm_own, file_to_klm_string(\"klm3.txt\")), 3)\n",
    "predictions_dict_own[\"test4\"] =  round(calculate_klm_time(klm_own, file_to_klm_string(\"klm4.txt\")), 3)"
   ]
  },
  {
   "cell_type": "markdown",
   "metadata": {},
   "source": [
    "# Predicted Times for own KLM Values"
   ]
  },
  {
   "cell_type": "code",
   "execution_count": 6,
   "metadata": {},
   "outputs": [
    {
     "data": {
      "text/plain": [
       "{'test1': 30.651, 'test2': 15.759, 'test3': 8.414, 'test4': 4.326}"
      ]
     },
     "execution_count": 6,
     "metadata": {},
     "output_type": "execute_result"
    }
   ],
   "source": [
    "predictions_dict_own"
   ]
  },
  {
   "cell_type": "code",
   "execution_count": 7,
   "metadata": {},
   "outputs": [],
   "source": [
    "predictions_dict_lit = {}\n",
    "predictions_dict_lit[\"test1\"] = round(calculate_klm_time(klm_lit, file_to_klm_string(\"klm1.txt\")), 3)\n",
    "predictions_dict_lit[\"test2\"] = round(calculate_klm_time(klm_lit, file_to_klm_string(\"klm2.txt\")), 3)\n",
    "predictions_dict_lit[\"test3\"] = round(calculate_klm_time(klm_lit, file_to_klm_string(\"klm3.txt\")), 3)\n",
    "predictions_dict_lit[\"test4\"] =  round(calculate_klm_time(klm_lit, file_to_klm_string(\"klm4.txt\")), 3)"
   ]
  },
  {
   "cell_type": "markdown",
   "metadata": {},
   "source": [
    "# Predicted Times for Card et al. KLM Values"
   ]
  },
  {
   "cell_type": "code",
   "execution_count": 8,
   "metadata": {},
   "outputs": [
    {
     "data": {
      "text/plain": [
       "{'test1': 66.3, 'test2': 14.28, 'test3': 18.2, 'test4': 3.92}"
      ]
     },
     "execution_count": 8,
     "metadata": {},
     "output_type": "execute_result"
    }
   ],
   "source": [
    "predictions_dict_lit"
   ]
  },
  {
   "cell_type": "markdown",
   "metadata": {},
   "source": [
    "## Test results"
   ]
  },
  {
   "cell_type": "code",
   "execution_count": 9,
   "metadata": {},
   "outputs": [
    {
     "data": {
      "text/plain": [
       "6.709"
      ]
     },
     "execution_count": 9,
     "metadata": {},
     "output_type": "execute_result"
    }
   ],
   "source": [
    "time_mouse_1 = []\n",
    "time_key_1 = []\n",
    "time_mouse_2 = []\n",
    "time_key_2 = []\n",
    "\n",
    "for i in range (1, 5):  \n",
    "    mouse_1 = pd.read_csv(\"test_data/test1_{num}.csv\".format(num = i), names=[\"input\",\"time\"])\n",
    "    key_1 = pd.read_csv(\"test_data/test2_{num}.csv\".format(num = i), names=[\"input\",\"time\"])\n",
    "    mouse_2 = pd.read_csv(\"test_data/test3_{num}.csv\".format(num = i), names=[\"input\",\"time\"])\n",
    "    key_2 = pd.read_csv(\"test_data/test4_{num}.csv\".format(num = i), names=[\"input\",\"time\"])\n",
    "    \n",
    "    time_diff_mouse_1 = (list(mouse_1[\"time\"])[-1]-list(mouse_1[\"time\"])[0])\n",
    "    time_diff_key_1 = (list(key_1[\"time\"])[-1]-list(key_1[\"time\"])[0])\n",
    "    time_diff_mouse_2 = (list(mouse_2[\"time\"])[-1]-list(mouse_2[\"time\"])[0])\n",
    "    time_diff_key_2 = (list(key_2[\"time\"])[-1]-list(key_2[\"time\"])[0])\n",
    "    \n",
    "    time_mouse_1.append(time_diff_mouse_1)\n",
    "    time_key_1.append(time_diff_key_1)\n",
    "    time_mouse_2.append(time_diff_mouse_2)\n",
    "    time_key_2.append(time_diff_key_2)\n",
    "\n",
    "time_mouse_1_result = round(sum(time_mouse_1)/len(time_mouse_1),3)\n",
    "time_key_1_result = round(sum(time_key_1)/len(time_key_1),3)\n",
    "time_mouse_2_result = round(sum(time_mouse_2)/len(time_mouse_2),3)\n",
    "time_key_2_result = round(sum(time_key_2)/len(time_key_2),3)\n",
    "\n",
    "time_key_2_result"
   ]
  },
  {
   "cell_type": "markdown",
   "metadata": {},
   "source": [
    "# List predictions and actual mean task time"
   ]
  },
  {
   "cell_type": "code",
   "execution_count": 10,
   "metadata": {},
   "outputs": [
    {
     "name": "stdout",
     "output_type": "stream",
     "text": [
      "  Task  Tested  Estimated (Card et. al)  Estimated (own)\n",
      "0    1  29.212                    66.30           30.651\n",
      "1    2  14.536                    14.28           15.759\n",
      "2    3   9.569                    18.20            8.414\n",
      "3    4   6.709                     3.92            4.326\n"
     ]
    }
   ],
   "source": [
    "results = [[\"1\", time_mouse_1_result, predictions_dict_lit[\"test1\"],predictions_dict_own[\"test1\"]],\n",
    "            [\"2\", time_key_1_result, predictions_dict_lit[\"test2\"],predictions_dict_own[\"test2\"]],\n",
    "             [\"3\", time_mouse_2_result, predictions_dict_lit[\"test3\"],predictions_dict_own[\"test3\"]],\n",
    "              [\"4\", time_key_2_result, predictions_dict_lit[\"test4\"], predictions_dict_own[\"test4\"]]]\n",
    "\n",
    "df = pd.DataFrame(results, columns = ['Task','Tested','Estimated (Card et. al)','Estimated (own)'])\n",
    "print(df)"
   ]
  },
  {
   "cell_type": "markdown",
   "metadata": {},
   "source": [
    "### Boxplot Task 1"
   ]
  },
  {
   "cell_type": "code",
   "execution_count": 11,
   "metadata": {},
   "outputs": [
    {
     "name": "stderr",
     "output_type": "stream",
     "text": [
      "/opt/conda/lib/python3.7/site-packages/ipykernel_launcher.py:10: FutureWarning: Sorting because non-concatenation axis is not aligned. A future version\n",
      "of pandas will change to not sort by default.\n",
      "\n",
      "To accept the future behavior, pass 'sort=False'.\n",
      "\n",
      "To retain the current behavior and silence the warning, pass 'sort=True'.\n",
      "\n",
      "  # Remove the CWD from sys.path while we load stuff.\n"
     ]
    },
    {
     "data": {
      "text/plain": [
       "Text(0.5, 1.0, 'Task 1: predicted and tested task completion time')"
      ]
     },
     "execution_count": 11,
     "metadata": {},
     "output_type": "execute_result"
    },
    {
     "data": {
      "image/png": "[encoded data removed]",
      "text/plain": [
       "<Figure size 432x288 with 1 Axes>"
      ]
     },
     "metadata": {
      "needs_background": "light"
     },
     "output_type": "display_data"
    }
   ],
   "source": [
    "pred_time = [predictions_dict_lit[\"test1\"]]\n",
    "pred_time_own = [predictions_dict_own[\"test1\"]]\n",
    "\n",
    "\n",
    "df = pd.DataFrame(time_mouse_1, columns=['Test result'])\n",
    "df2 = pd.DataFrame(pred_time, columns=[\"Predicted value \\n (Card et. al)\"])\n",
    "df3 = pd.DataFrame(pred_time_own, columns=[\"Predicted own value\"])\n",
    "\n",
    "\n",
    "cdf = pd.concat([df, df2, df3])    \n",
    "\n",
    "\n",
    "boxplot_1 = cdf.boxplot()\n",
    "boxplot_1.set(ylabel=\"task completion time\")\n",
    "plt.title(\"Task 1: predicted and tested task completion time\")"
   ]
  },
  {
   "cell_type": "markdown",
   "metadata": {},
   "source": [
    "### Boxplot Task 2"
   ]
  },
  {
   "cell_type": "code",
   "execution_count": 12,
   "metadata": {},
   "outputs": [
    {
     "name": "stderr",
     "output_type": "stream",
     "text": [
      "/opt/conda/lib/python3.7/site-packages/ipykernel_launcher.py:10: FutureWarning: Sorting because non-concatenation axis is not aligned. A future version\n",
      "of pandas will change to not sort by default.\n",
      "\n",
      "To accept the future behavior, pass 'sort=False'.\n",
      "\n",
      "To retain the current behavior and silence the warning, pass 'sort=True'.\n",
      "\n",
      "  # Remove the CWD from sys.path while we load stuff.\n"
     ]
    },
    {
     "data": {
      "text/plain": [
       "Text(0.5, 1.0, 'Task 2: predicted and tested task completion time')"
      ]
     },
     "execution_count": 12,
     "metadata": {},
     "output_type": "execute_result"
    },
    {
     "data": {
      "image/png": "[encoded data removed]",
      "text/plain": [
       "<Figure size 432x288 with 1 Axes>"
      ]
     },
     "metadata": {
      "needs_background": "light"
     },
     "output_type": "display_data"
    }
   ],
   "source": [
    "pred_time_2 = [predictions_dict_lit[\"test2\"]]\n",
    "pred_time_own_2 = [predictions_dict_own[\"test2\"]]\n",
    "\n",
    "\n",
    "df = pd.DataFrame(time_key_1, columns=['Test result'])\n",
    "df2 = pd.DataFrame(pred_time_2, columns=[\"Predicted value \\n (Card et. al)\"])\n",
    "df3 = pd.DataFrame(pred_time_own_2, columns=[\"Predicted own value\"])\n",
    "\n",
    "\n",
    "cdf = pd.concat([df, df2, df3])    \n",
    "\n",
    "\n",
    "boxplot_1 = cdf.boxplot()\n",
    "boxplot_1.set(ylabel=\"task completion time\")\n",
    "plt.title(\"Task 2: predicted and tested task completion time\")"
   ]
  },
  {
   "cell_type": "markdown",
   "metadata": {},
   "source": [
    "### Boxplot Task 3"
   ]
  },
  {
   "cell_type": "code",
   "execution_count": 14,
   "metadata": {},
   "outputs": [
    {
     "name": "stderr",
     "output_type": "stream",
     "text": [
      "/opt/conda/lib/python3.7/site-packages/ipykernel_launcher.py:10: FutureWarning: Sorting because non-concatenation axis is not aligned. A future version\n",
      "of pandas will change to not sort by default.\n",
      "\n",
      "To accept the future behavior, pass 'sort=False'.\n",
      "\n",
      "To retain the current behavior and silence the warning, pass 'sort=True'.\n",
      "\n",
      "  # Remove the CWD from sys.path while we load stuff.\n"
     ]
    },
    {
     "data": {
      "text/plain": [
       "Text(0.5, 1.0, 'Task 3: predicted and tested task completion time')"
      ]
     },
     "execution_count": 14,
     "metadata": {},
     "output_type": "execute_result"
    },
    {
     "data": {
      "image/png": "[encoded data removed]",
      "text/plain": [
       "<Figure size 432x288 with 1 Axes>"
      ]
     },
     "metadata": {
      "needs_background": "light"
     },
     "output_type": "display_data"
    }
   ],
   "source": [
    "pred_time_3 = [predictions_dict_lit[\"test3\"]]\n",
    "pred_time_own_3 = [predictions_dict_own[\"test3\"]]\n",
    "\n",
    "\n",
    "df = pd.DataFrame(time_mouse_2, columns=['Test result'])\n",
    "df2 = pd.DataFrame(pred_time_3, columns=[\"Predicted value \\n (Card et. al)\"])\n",
    "df3 = pd.DataFrame(pred_time_own_3, columns=[\"Predicted own value\"])\n",
    "\n",
    "\n",
    "cdf = pd.concat([df, df2, df3])    \n",
    "\n",
    "\n",
    "boxplot_1 = cdf.boxplot()\n",
    "boxplot_1.set(ylabel=\"task completion time\")\n",
    "plt.title(\"Task 3: predicted and tested task completion time\")"
   ]
  },
  {
   "cell_type": "markdown",
   "metadata": {},
   "source": [
    "### Boxplot Task 4"
   ]
  },
  {
   "cell_type": "code",
   "execution_count": 15,
   "metadata": {},
   "outputs": [
    {
     "name": "stderr",
     "output_type": "stream",
     "text": [
      "/opt/conda/lib/python3.7/site-packages/ipykernel_launcher.py:10: FutureWarning: Sorting because non-concatenation axis is not aligned. A future version\n",
      "of pandas will change to not sort by default.\n",
      "\n",
      "To accept the future behavior, pass 'sort=False'.\n",
      "\n",
      "To retain the current behavior and silence the warning, pass 'sort=True'.\n",
      "\n",
      "  # Remove the CWD from sys.path while we load stuff.\n"
     ]
    },
    {
     "data": {
      "text/plain": [
       "Text(0.5, 1.0, 'Task 4: predicted and tested task completion time')"
      ]
     },
     "execution_count": 15,
     "metadata": {},
     "output_type": "execute_result"
    },
    {
     "data": {
      "image/png": "[encoded data removed]",
      "text/plain": [
       "<Figure size 432x288 with 1 Axes>"
      ]
     },
     "metadata": {
      "needs_background": "light"
     },
     "output_type": "display_data"
    }
   ],
   "source": [
    "pred_time_4 = [predictions_dict_lit[\"test4\"]]\n",
    "pred_time_own_4 = [predictions_dict_own[\"test4\"]]\n",
    "\n",
    "\n",
    "df = pd.DataFrame(time_mouse_2, columns=['Test result'])\n",
    "df2 = pd.DataFrame(pred_time_4, columns=[\"Predicted value \\n (Card et. al)\"])\n",
    "df3 = pd.DataFrame(pred_time_own_4, columns=[\"Predicted own value\"])\n",
    "\n",
    "\n",
    "cdf = pd.concat([df, df2, df3])    \n",
    "\n",
    "\n",
    "boxplot_1 = cdf.boxplot()\n",
    "boxplot_1.set(ylabel=\"task completion time\")\n",
    "plt.title(\"Task 4: predicted and tested task completion time\")"
   ]
  },
  {
   "cell_type": "markdown",
   "metadata": {},
   "source": [
    "# Results"
   ]
  },
  {
   "cell_type": "markdown",
   "metadata": {},
   "source": [
    "Our results show, that all of our predicted times except for task 4 came very close to the actual mean task times. In 3/4 cases our times were also closer predictions, than the standard times presented by card et al. Especially our smaller value for the pointing operator seems to have benefitted our predictions. This is probably due to the small size of the calculator app. We are unsure, why our predicitons for task 4 fared far wworse than the others, though the most probable cause seems to be a stronger mental effect when performing the task.\n",
    "In conclusion it can be said, that termining your own app-specific KLM values can be very helpful for calculating task times, as it can lead to much better predictions"
   ]
  },
  {
   "cell_type": "code",
   "execution_count": null,
   "metadata": {},
   "outputs": [],
   "source": []
  }
 ],
 "metadata": {
  "kernelspec": {
   "display_name": "Python 3",
   "language": "python",
   "name": "python3"
  },
  "language_info": {
   "codemirror_mode": {
    "name": "ipython",
    "version": 3
   },
   "file_extension": ".py",
   "mimetype": "text/x-python",
   "name": "python",
   "nbconvert_exporter": "python",
   "pygments_lexer": "ipython3",
   "version": "3.7.3"
  }
 },
 "nbformat": 4,
 "nbformat_minor": 4
}
