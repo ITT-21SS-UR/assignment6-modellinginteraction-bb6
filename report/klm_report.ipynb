{
 "cells": [
  {
   "cell_type": "code",
   "execution_count": 1,
   "metadata": {},
   "outputs": [],
   "source": [
    "import pandas\n",
    "import sys"
   ]
  },
  {
   "cell_type": "code",
   "execution_count": 16,
   "metadata": {},
   "outputs": [],
   "source": [
    "# copied methods from klm.py script\n",
    "\n",
    "def file_to_klm_string(filename):\n",
    "    klm_string = \"\"\n",
    "    try:\n",
    "        file = open(filename)\n",
    "    except IOError:\n",
    "        return []\n",
    "    lines = file.readlines()\n",
    "    for line in lines:\n",
    "        new_line = line.split(\"#\", 1)[0].replace(\" \",\"\").rstrip().lower()\n",
    "        klm_string += new_line\n",
    "    return klm_string\n",
    "\n",
    "\n",
    "# calculates task time\n",
    "def calculate_klm_time(klm_model, klm_string):\n",
    "    numbers = \"\"\n",
    "    result = 0\n",
    "    for char in klm_string:\n",
    "        # save digits as prefixes for following operator\n",
    "        if char.isdigit():\n",
    "            numbers += char\n",
    "        else:\n",
    "            try:\n",
    "                operator_number = klm_model[char]\n",
    "            except KeyError:\n",
    "                print(char, ' character does not match any klm operator. Check your klm file.')\n",
    "                return\n",
    "            # multiply by prefixed number if it exists\n",
    "            if len(numbers) > 0:\n",
    "                operator_number *= float(numbers)\n",
    "                numbers = \"\"\n",
    "            result += operator_number\n",
    "    return result"
   ]
  },
  {
   "cell_type": "code",
   "execution_count": 3,
   "metadata": {},
   "outputs": [],
   "source": [
    "klm_lit = {\n",
    "            \"k\": 0.28,\n",
    "            \"p\": 1.1,\n",
    "            \"h\": 0.4,\n",
    "            \"b\": 0.1,\n",
    "            \"m\": 1.35,\n",
    "            }\n",
    "klm_own = {\n",
    "            \"k\": 0.309,\n",
    "            \"b\": 0.09,\n",
    "            \"h\": 0.498,\n",
    "            \"p\": 0.421,\n",
    "            }"
   ]
  },
  {
   "cell_type": "code",
   "execution_count": 17,
   "metadata": {},
   "outputs": [],
   "source": [
    "predictions_dict_own = {}\n",
    "predictions_dict_own[\"test1\"] = calculate_klm_time(klm_own, file_to_klm_string(\"klm1.txt\"))\n",
    "predictions_dict_own[\"test2\"] = calculate_klm_time(klm_own, file_to_klm_string(\"klm2.txt\"))\n",
    "predictions_dict_own[\"test3\"] = calculate_klm_time(klm_own, file_to_klm_string(\"klm3.txt\"))\n",
    "predictions_dict_own[\"test4\"] = calculate_klm_time(klm_own, file_to_klm_string(\"klm4.txt\"))"
   ]
  },
  {
   "cell_type": "code",
   "execution_count": 18,
   "metadata": {},
   "outputs": [
    {
     "data": {
      "text/plain": [
       "{'test1': 30.650999999999964,\n",
       " 'test2': 15.759,\n",
       " 'test3': 8.413999999999998,\n",
       " 'test4': 3.708}"
      ]
     },
     "execution_count": 18,
     "metadata": {},
     "output_type": "execute_result"
    }
   ],
   "source": [
    "predictions_dict_own"
   ]
  },
  {
   "cell_type": "code",
   "execution_count": 13,
   "metadata": {},
   "outputs": [
    {
     "name": "stdout",
     "output_type": "stream",
     "text": [
      "p\n",
      "b\n",
      "b\n",
      "p\n",
      "b\n",
      "b\n",
      "p\n",
      "b\n",
      "b\n",
      "p\n",
      "b\n",
      "b\n",
      "p\n",
      "b\n",
      "b\n",
      "p\n",
      "b\n",
      "b\n",
      "p\n",
      "b\n",
      "b\n",
      "p\n",
      "b\n",
      "b\n",
      "p\n",
      "b\n",
      "b\n",
      " \n",
      "   character does not match any klm operator. Check your klm file.\n"
     ]
    }
   ],
   "source": [
    "predictions_dict_lit = {}\n",
    "predictions_dict_lit[\"test1\"] = calculate_klm_time(klm_own, file_to_klm_string(\"klm1.txt\"))\n",
    "predictions_dict_lit[\"test2\"] = calculate_klm_time(klm_own, file_to_klm_string(\"klm2.txt\"))\n",
    "predictions_dict_lit[\"test3\"] = calculate_klm_time(klm_own, file_to_klm_string(\"klm3.txt\"))\n",
    "predictions_dict_lit[\"test4\"] = calculate_klm_time(klm_own, file_to_klm_string(\"klm4.txt\"))"
   ]
  },
  {
   "cell_type": "code",
   "execution_count": 20,
   "metadata": {},
   "outputs": [
    {
     "data": {
      "text/plain": [
       "3.708"
      ]
     },
     "execution_count": 20,
     "metadata": {},
     "output_type": "execute_result"
    }
   ],
   "source": [
    "12*0.309"
   ]
  },
  {
   "cell_type": "code",
   "execution_count": null,
   "metadata": {},
   "outputs": [],
   "source": [
    "12"
   ]
  }
 ],
 "metadata": {
  "kernelspec": {
   "display_name": "Python 3",
   "language": "python",
   "name": "python3"
  },
  "language_info": {
   "codemirror_mode": {
    "name": "ipython",
    "version": 3
   },
   "file_extension": ".py",
   "mimetype": "text/x-python",
   "name": "python",
   "nbconvert_exporter": "python",
   "pygments_lexer": "ipython3",
   "version": "3.7.3"
  }
 },
 "nbformat": 4,
 "nbformat_minor": 4
}
